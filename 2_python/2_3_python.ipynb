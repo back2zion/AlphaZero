{
  "nbformat": 4,
  "nbformat_minor": 0,
  "metadata": {
    "colab": {
      "provenance": []
    },
    "kernelspec": {
      "display_name": "Python 3",
      "language": "python",
      "name": "python3"
    }
  },
  "cells": [
    {
      "cell_type": "code",
      "metadata": {
        "id": "xfiRGI0qkobx",
        "outputId": "3173bcf9-77fc-4262-d139-3edbd94580c1",
        "colab": {
          "base_uri": "https://localhost:8080/"
        }
      },
      "source": [
        "# 「Hello World」 표시\n",
        "print('Hello World')"
      ],
      "execution_count": 1,
      "outputs": [
        {
          "output_type": "stream",
          "name": "stdout",
          "text": [
            "Hello World\n"
          ]
        }
      ]
    },
    {
      "cell_type": "code",
      "metadata": {
        "id": "YaFZ6x11kob3",
        "outputId": "57be8729-07e1-4fc3-8b71-5929936b93e8",
        "colab": {
          "base_uri": "https://localhost:8080/"
        }
      },
      "source": [
        "a = 1\n",
        "b = 2\n",
        "c = a + b\n",
        "print (a, b, c)"
      ],
      "execution_count": 2,
      "outputs": [
        {
          "output_type": "stream",
          "name": "stdout",
          "text": [
            "1 2 3\n"
          ]
        }
      ]
    },
    {
      "cell_type": "code",
      "metadata": {
        "id": "8paf9f1Ukob6",
        "outputId": "1f753656-17e7-4a1a-d3dc-89c0485a9bac",
        "colab": {
          "base_uri": "https://localhost:8080/"
        }
      },
      "source": [
        "a = 11\n",
        "s = 'a는 10이상' if a > 10 else  'a는 10미만'\n",
        "print (s)"
      ],
      "execution_count": 3,
      "outputs": [
        {
          "output_type": "stream",
          "name": "stdout",
          "text": [
            "a는 10이상\n"
          ]
        }
      ]
    },
    {
      "cell_type": "code",
      "metadata": {
        "id": "qO5IV375kob8",
        "outputId": "68617776-e5c5-4a94-e9f1-dfd56ba6053f",
        "colab": {
          "base_uri": "https://localhost:8080/"
        }
      },
      "source": [
        "text = '''텍스트 첫 번째 행.\n",
        "텍스트 두 번째 행.'''\n",
        "print(text)"
      ],
      "execution_count": 4,
      "outputs": [
        {
          "output_type": "stream",
          "name": "stdout",
          "text": [
            "텍스트 첫 번째 행.\n",
            "텍스트 두 번째 행.\n"
          ]
        }
      ]
    },
    {
      "cell_type": "code",
      "metadata": {
        "id": "eeRriCLjkob_",
        "outputId": "33abb472-b9e0-4ff2-a9d5-0364090695b4",
        "colab": {
          "base_uri": "https://localhost:8080/"
        }
      },
      "source": [
        "print('문자열' + ' 결합')"
      ],
      "execution_count": 5,
      "outputs": [
        {
          "output_type": "stream",
          "name": "stdout",
          "text": [
            "문자열 결합\n"
          ]
        }
      ]
    },
    {
      "cell_type": "code",
      "metadata": {
        "id": "d1OuY5_LkocB",
        "outputId": "e4a14501-8ce0-4a68-f686-c5b99b44dbd0",
        "colab": {
          "base_uri": "https://localhost:8080/"
        }
      },
      "source": [
        "print('정답 = ' + str(100))"
      ],
      "execution_count": 6,
      "outputs": [
        {
          "output_type": "stream",
          "name": "stdout",
          "text": [
            "정답 = 100\n"
          ]
        }
      ]
    },
    {
      "cell_type": "code",
      "metadata": {
        "id": "HLclztprkocE",
        "outputId": "dab21567-2054-4b29-ee87-3670e4681f49",
        "colab": {
          "base_uri": "https://localhost:8080/"
        }
      },
      "source": [
        "text = 'Hello World'\n",
        "print(text[1:3])\n",
        "print(text[:5])\n",
        "print(text[6:])"
      ],
      "execution_count": 7,
      "outputs": [
        {
          "output_type": "stream",
          "name": "stdout",
          "text": [
            "el\n",
            "Hello\n",
            "World\n"
          ]
        }
      ]
    },
    {
      "cell_type": "code",
      "metadata": {
        "id": "M-ZjG56mkocG",
        "outputId": "f2cf37e4-e589-4aee-8c2f-d0f90a4b5dba",
        "colab": {
          "base_uri": "https://localhost:8080/"
        }
      },
      "source": [
        "a = 'Test'\n",
        "b = 100\n",
        "c = 3.14159\n",
        "\n",
        "print('문자열 = {}'.format(a))\n",
        "print('정수 = {}'.format(b))\n",
        "print('부동소수점수 = {}'.format(c))\n",
        "print('부동소수점수(소수점2자리) = {:.2f}'.format(c))\n",
        "print ('여러 변수 = {}, {}, {:.2f}'.format(a, b, c))"
      ],
      "execution_count": 8,
      "outputs": [
        {
          "output_type": "stream",
          "name": "stdout",
          "text": [
            "문자열 = Test\n",
            "정수 = 100\n",
            "부동소수점수 = 3.14159\n",
            "부동소수점수(소수점2자리) = 3.14\n",
            "여러 변수 = Test, 100, 3.14\n"
          ]
        }
      ]
    },
    {
      "cell_type": "code",
      "metadata": {
        "id": "xuFqCxgekocJ",
        "outputId": "94d6debf-1fe6-4314-9667-d66cf917e03c",
        "colab": {
          "base_uri": "https://localhost:8080/"
        }
      },
      "source": [
        "my_list = [1, 2, 3, 4]\n",
        "print(my_list)\n",
        "print(my_list[0])\n",
        "print(my_list[1:3])"
      ],
      "execution_count": 10,
      "outputs": [
        {
          "output_type": "stream",
          "name": "stdout",
          "text": [
            "[1, 2, 3, 4]\n",
            "1\n",
            "[2, 3]\n"
          ]
        }
      ]
    },
    {
      "cell_type": "code",
      "metadata": {
        "id": "SMG8PHbgkocM",
        "outputId": "1b994c45-2c47-44ee-e206-3cae6a005344",
        "colab": {
          "base_uri": "https://localhost:8080/"
        }
      },
      "source": [
        "my_list = [1, 2, 3, 4]\n",
        "my_list[0] = 10\n",
        "print(my_list)\n",
        "my_list[1:4] = [20, 30]\n",
        "print(my_list)"
      ],
      "execution_count": 11,
      "outputs": [
        {
          "output_type": "stream",
          "name": "stdout",
          "text": [
            "[10, 2, 3, 4]\n",
            "[10, 20, 30]\n"
          ]
        }
      ]
    },
    {
      "cell_type": "code",
      "metadata": {
        "id": "yDCo9a0KkocO",
        "outputId": "5eedbaef-4379-4740-c2fa-63efba779d9b",
        "colab": {
          "base_uri": "https://localhost:8080/"
        }
      },
      "source": [
        "my_list = ['Apple', 'Cherry']\n",
        "print(my_list)\n",
        "my_list.append('Strawberry')\n",
        "print(my_list)\n",
        "del my_list[1]\n",
        "print(my_list)\n",
        "my_list.remove('Apple')\n",
        "print(my_list)"
      ],
      "execution_count": 12,
      "outputs": [
        {
          "output_type": "stream",
          "name": "stdout",
          "text": [
            "['Apple', 'Cherry']\n",
            "['Apple', 'Cherry', 'Strawberry']\n",
            "['Apple', 'Strawberry']\n",
            "['Strawberry']\n"
          ]
        }
      ]
    },
    {
      "cell_type": "code",
      "metadata": {
        "id": "KxIolBIekocQ",
        "outputId": "3df9bd5a-9736-456c-ad3c-b69162377cf0",
        "colab": {
          "base_uri": "https://localhost:8080/"
        }
      },
      "source": [
        "print(list(range(10)))\n",
        "print(list(range(1, 7)))\n",
        "print(list(range(1, 10, 2)))"
      ],
      "execution_count": 13,
      "outputs": [
        {
          "output_type": "stream",
          "name": "stdout",
          "text": [
            "[0, 1, 2, 3, 4, 5, 6, 7, 8, 9]\n",
            "[1, 2, 3, 4, 5, 6]\n",
            "[1, 3, 5, 7, 9]\n"
          ]
        }
      ]
    },
    {
      "cell_type": "code",
      "metadata": {
        "id": "bnKcL2fMkocU",
        "outputId": "49ad52e9-3c0e-4355-e01e-9cc01eccacc8",
        "colab": {
          "base_uri": "https://localhost:8080/"
        }
      },
      "source": [
        "my_dic= {'Apple': 300, 'Cherry': 200, 'Strawberry': 3000}\n",
        "print(my_dic['Apple'])"
      ],
      "execution_count": 14,
      "outputs": [
        {
          "output_type": "stream",
          "name": "stdout",
          "text": [
            "300\n"
          ]
        }
      ]
    },
    {
      "cell_type": "code",
      "metadata": {
        "id": "6aDiW7HkkocY",
        "outputId": "52d517da-aaa0-4b6a-c7c0-cdf2545258b3",
        "colab": {
          "base_uri": "https://localhost:8080/"
        }
      },
      "source": [
        "my_dic['Apple'] = 400\n",
        "print(my_dic)"
      ],
      "execution_count": 15,
      "outputs": [
        {
          "output_type": "stream",
          "name": "stdout",
          "text": [
            "{'Apple': 400, 'Cherry': 200, 'Strawberry': 3000}\n"
          ]
        }
      ]
    },
    {
      "cell_type": "code",
      "metadata": {
        "id": "WOvHx_QJkoca",
        "outputId": "73155ab4-43e6-490e-e5ef-ec36585243fc",
        "colab": {
          "base_uri": "https://localhost:8080/"
        }
      },
      "source": [
        "my_dic = {'Apple' : 300}\n",
        "print(my_dic)\n",
        "my_dic['Cherry'] = 200\n",
        "print(my_dic)\n",
        "del my_dic['Apple']\n",
        "print(my_dic)"
      ],
      "execution_count": 16,
      "outputs": [
        {
          "output_type": "stream",
          "name": "stdout",
          "text": [
            "{'Apple': 300}\n",
            "{'Apple': 300, 'Cherry': 200}\n",
            "{'Cherry': 200}\n"
          ]
        }
      ]
    },
    {
      "cell_type": "code",
      "metadata": {
        "id": "bsp3QYklkocd",
        "outputId": "ff646544-709f-4700-90b2-569acc7d2873",
        "colab": {
          "base_uri": "https://localhost:8080/"
        }
      },
      "source": [
        "my_taple = (1, 2, 3, 4)\n",
        "print(my_taple)\n",
        "print(my_taple[0])\n",
        "print(my_taple[1:3])"
      ],
      "execution_count": 17,
      "outputs": [
        {
          "output_type": "stream",
          "name": "stdout",
          "text": [
            "(1, 2, 3, 4)\n",
            "1\n",
            "(2, 3)\n"
          ]
        }
      ]
    },
    {
      "cell_type": "code",
      "metadata": {
        "id": "dx4Y3fdKkoci",
        "outputId": "cb156fe4-b58e-4b09-cb5a-8593713f7402",
        "colab": {
          "base_uri": "https://localhost:8080/"
        }
      },
      "source": [
        "num = 5\n",
        "if num >= 10:\n",
        "    print('num이 10이상') # 조건 성립\n",
        "else:\n",
        "    print('num이 10미만') # 조건 미성립"
      ],
      "execution_count": 18,
      "outputs": [
        {
          "output_type": "stream",
          "name": "stdout",
          "text": [
            "num이 10미만\n"
          ]
        }
      ]
    },
    {
      "cell_type": "code",
      "metadata": {
        "id": "V7xggK7vkock",
        "outputId": "fc7297cd-0775-4d31-a945-89530d9cb1e6",
        "colab": {
          "base_uri": "https://localhost:8080/"
        }
      },
      "source": [
        "num = 10\n",
        "if num >= 5:\n",
        "    print('num이 5이상') # 1번째 조건 성립\n",
        "elif num >= 3:\n",
        "    print('num이 3이상') # 2번째 조건 성립\n",
        "else:\n",
        "    print('num이 3미만') # 조건 미성립"
      ],
      "execution_count": 19,
      "outputs": [
        {
          "output_type": "stream",
          "name": "stdout",
          "text": [
            "num이 5이상\n"
          ]
        }
      ]
    },
    {
      "cell_type": "code",
      "metadata": {
        "id": "l30_yRaykocn",
        "outputId": "0a4d289b-8ba9-4c1d-e871-e32865d71e90",
        "colab": {
          "base_uri": "https://localhost:8080/"
        }
      },
      "source": [
        "for n in [1, 2, 3]:\n",
        "    print(n), # 반복 대상\n",
        "    print(n*10) # 반복 대상"
      ],
      "execution_count": 20,
      "outputs": [
        {
          "output_type": "stream",
          "name": "stdout",
          "text": [
            "1\n",
            "10\n",
            "2\n",
            "20\n",
            "3\n",
            "30\n"
          ]
        }
      ]
    },
    {
      "cell_type": "code",
      "metadata": {
        "id": "pSZoA0K0-_J9",
        "outputId": "b5b6cd9c-4f04-431f-82e8-9a2eea45056c",
        "colab": {
          "base_uri": "https://localhost:8080/"
        }
      },
      "source": [
        "for n in range(5):\n",
        "    print(n), # 반복 대상"
      ],
      "execution_count": 21,
      "outputs": [
        {
          "output_type": "stream",
          "name": "stdout",
          "text": [
            "0\n",
            "1\n",
            "2\n",
            "3\n",
            "4\n"
          ]
        }
      ]
    },
    {
      "cell_type": "code",
      "metadata": {
        "id": "6VPAEDZKkocq",
        "outputId": "2130d88b-6c4e-4bb4-d448-48676a742b0b",
        "colab": {
          "base_uri": "https://localhost:8080/",
          "height": 68
        }
      },
      "source": [
        "i = 0\n",
        "while i < 20:\n",
        "    i += 1\n",
        "    if i % 2 == 0:\n",
        "        continue\n",
        "    if i % 3 == 0:\n",
        "        print(i)"
      ],
      "execution_count": null,
      "outputs": [
        {
          "output_type": "stream",
          "text": [
            "3\n",
            "9\n",
            "15\n"
          ],
          "name": "stdout"
        }
      ]
    },
    {
      "cell_type": "code",
      "metadata": {
        "id": "vPqsUTExkocr",
        "outputId": "fec4f920-6e91-4f00-dcdf-48c8eecbdcf4",
        "colab": {
          "base_uri": "https://localhost:8080/"
        }
      },
      "source": [
        "for num, fruit in enumerate(['Apple', 'Cherry', 'Strawberry']):\n",
        "    print('{}:{}'.format(num, fruit))"
      ],
      "execution_count": 22,
      "outputs": [
        {
          "output_type": "stream",
          "name": "stdout",
          "text": [
            "0:Apple\n",
            "1:Cherry\n",
            "2:Strawberry\n"
          ]
        }
      ]
    },
    {
      "cell_type": "code",
      "metadata": {
        "id": "gVMr_-Lwkocw",
        "outputId": "3f2a22ea-a5d9-43c9-e6fc-90d114fec939",
        "colab": {
          "base_uri": "https://localhost:8080/"
        }
      },
      "source": [
        "my_list1 = []\n",
        "for x in range(10):\n",
        "    my_list1.append(x * 2)\n",
        "\n",
        "print(my_list1)"
      ],
      "execution_count": 23,
      "outputs": [
        {
          "output_type": "stream",
          "name": "stdout",
          "text": [
            "[0, 2, 4, 6, 8, 10, 12, 14, 16, 18]\n"
          ]
        }
      ]
    },
    {
      "cell_type": "code",
      "metadata": {
        "id": "FohPL-UNkocy",
        "outputId": "8016ea9f-7ae0-4a49-e226-27d2a047344c",
        "colab": {
          "base_uri": "https://localhost:8080/"
        }
      },
      "source": [
        "my_list2 = [x * 2 for x in range(10)]\n",
        "\n",
        "print(my_list2)"
      ],
      "execution_count": 24,
      "outputs": [
        {
          "output_type": "stream",
          "name": "stdout",
          "text": [
            "[0, 2, 4, 6, 8, 10, 12, 14, 16, 18]\n"
          ]
        }
      ]
    },
    {
      "cell_type": "code",
      "metadata": {
        "id": "w5I_gt-fkoc1",
        "outputId": "46ac8d9e-94ee-4244-f00f-92002b4983a0",
        "colab": {
          "base_uri": "https://localhost:8080/"
        }
      },
      "source": [
        "def radian(x):\n",
        "    return x / 180 * 3.1415\n",
        "\n",
        "for x in range(0, 360, 90):\n",
        "    print('각도: {}, 라디안: {:.2f}'.format(x, radian(x)))"
      ],
      "execution_count": 25,
      "outputs": [
        {
          "output_type": "stream",
          "name": "stdout",
          "text": [
            "각도: 0, 라디안: 0.00\n",
            "각도: 90, 라디안: 1.57\n",
            "각도: 180, 라디안: 3.14\n",
            "각도: 270, 라디안: 4.71\n"
          ]
        }
      ]
    },
    {
      "cell_type": "code",
      "metadata": {
        "id": "c5v3DJdFkoc3",
        "outputId": "4afb2e28-45fe-4f8a-aa8f-2c8198ec166e",
        "colab": {
          "base_uri": "https://localhost:8080/"
        }
      },
      "source": [
        "lambda_radian = (lambda x:x / 180 * 3.1415)\n",
        "\n",
        "for x in range(0, 360, 90):\n",
        "    print('각도: {}, 라디안: {:.2f}'.format(x, lambda_radian(x)))"
      ],
      "execution_count": 26,
      "outputs": [
        {
          "output_type": "stream",
          "name": "stdout",
          "text": [
            "각도: 0, 라디안: 0.00\n",
            "각도: 90, 라디안: 1.57\n",
            "각도: 180, 라디안: 3.14\n",
            "각도: 270, 라디안: 4.71\n"
          ]
        }
      ]
    },
    {
      "cell_type": "code",
      "metadata": {
        "id": "CRzeoBwUkoc5",
        "outputId": "152241dc-1432-4939-afbd-a13c2841e5dd",
        "colab": {
          "base_uri": "https://localhost:8080/"
        }
      },
      "source": [
        "class HelloClass:\n",
        "    def __init__(self, msg):\n",
        "        self.msg = msg\n",
        "\n",
        "    def output(self):\n",
        "        print(self.msg)\n",
        "\n",
        "hello = HelloClass('Hello World')\n",
        "hello.output()"
      ],
      "execution_count": 27,
      "outputs": [
        {
          "output_type": "stream",
          "name": "stdout",
          "text": [
            "Hello World\n"
          ]
        }
      ]
    },
    {
      "cell_type": "code",
      "metadata": {
        "id": "FsRpaF9tkoc7",
        "outputId": "e2aba5f5-3a12-4780-eab7-5e7710279ff2",
        "colab": {
          "base_uri": "https://localhost:8080/"
        }
      },
      "source": [
        "import numpy as np\n",
        "\n",
        "a = np.array([[1,2,3],[4,5,6],[7,8,9]])\n",
        "print(a)"
      ],
      "execution_count": 28,
      "outputs": [
        {
          "output_type": "stream",
          "name": "stdout",
          "text": [
            "[[1 2 3]\n",
            " [4 5 6]\n",
            " [7 8 9]]\n"
          ]
        }
      ]
    },
    {
      "cell_type": "code",
      "metadata": {
        "id": "4zgdG6z9koc-",
        "outputId": "06ba968b-ebbb-4fe3-fbee-c2867d5736a0",
        "colab": {
          "base_uri": "https://localhost:8080/"
        }
      },
      "source": [
        "from numpy import array\n",
        "\n",
        "a = array([[1,2,3],[4,5,6],[7,8,9]])\n",
        "print(a)"
      ],
      "execution_count": 29,
      "outputs": [
        {
          "output_type": "stream",
          "name": "stdout",
          "text": [
            "[[1 2 3]\n",
            " [4 5 6]\n",
            " [7 8 9]]\n"
          ]
        }
      ]
    }
  ]
}